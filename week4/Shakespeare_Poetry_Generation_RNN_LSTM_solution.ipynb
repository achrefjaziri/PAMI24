{
  "nbformat": 4,
  "nbformat_minor": 0,
  "metadata": {
    "colab": {
      "name": "Shakespeare_Poetry_Generation_RNN_LSTM_solution.ipynb",
      "version": "0.3.2",
      "provenance": [],
      "collapsed_sections": []
    },
    "kernelspec": {
      "name": "python3",
      "display_name": "Python 3"
    },
    "accelerator": "GPU"
  },
  "cells": [
    {
      "cell_type": "markdown",
      "metadata": {
        "id": "1BlaZc1G5m04",
        "colab_type": "text"
      },
      "source": [
        "# Shakespeare poetry generation with recurrent neural networks (RNNs)\n",
        "\n",
        "In this notebook we will take Shakespeares sonnets and train a recurrent neural network to generate poetry in a similar style. We will do so by training a character based simple RNN that takes in one character and learns to predict the likelihood of the next one. \n",
        "During inference we can use this trained network to give a random character to the model and let it sample an entire poem based on the previously sampled character (the network output) as input to the network's next time step.\n",
        "\n",
        "\n",
        "This notebook is loosely based on the following towards data science post: https://towardsdatascience.com/writing-like-shakespeare-with-machine-learning-in-pytorch-d77f851d910c . Here the author uses a PyTorch LSTM to do poetry generation and we have taken the liberty to use the author's data preprocessing steps in this notebook for convenience and have added a RNN from scratch implementation together with the PyTorch LSTM model for the later part in this notebook. \n",
        "\n",
        "After data loading, we will thus first learn how to implement a recurrent neural network in PyTorch, but with the equations written from scratch similar to our previous Numpy implementations. However, adding this custom math to the PyTorch neural network model will allow us to nevertheless leverage PyTorch's backward and automatic gradient methods so that we do not need to implement this ourselves anymore. This is very helpful if we ever plan on implementing custom functions/layers in the future. \n",
        "\n",
        "If you feel like you first want to implement both RNNs and LSTMs from scratch entirely using Numpy, including forward and gradient calculations, Andrew Ng's deeplearning.ai deep learning specialization on coursera has a sequence model course (course 5) with an excellent first notebook on this: https://www.coursera.org/learn/nlp-sequence-models\n"
      ]
    },
    {
      "cell_type": "code",
      "metadata": {
        "id": "kinYD3010vdt",
        "colab_type": "code",
        "colab": {}
      },
      "source": [
        "import math\n",
        "import numpy as np\n",
        "import torch\n",
        "import torch.nn as nn\n",
        "import torch.nn.functional as F\n",
        "from torch.nn import Parameter\n",
        "\n",
        "# Check whether GPU is available and can be used\n",
        "# if CUDA is found then device is set accordingly\n",
        "device = torch.device(\"cuda\" if torch.cuda.is_available() else \"cpu\")\n",
        "\n",
        "if not torch.cuda.is_available():\n",
        "    print(\"Consider changing your run-time to GPU or training will be slow.\")"
      ],
      "execution_count": 0,
      "outputs": []
    },
    {
      "cell_type": "markdown",
      "metadata": {
        "id": "stneSw5L77Ln",
        "colab_type": "text"
      },
      "source": [
        "## The data: Shakespeare's sonnets \n",
        "\n",
        "Shakespeare's sonnets can be found at the following URL featuring all of his works: http://shakespeare.mit.edu/\n",
        "\n",
        "For convenience reasons we have extracted all the plain text of the sonnets: https://ocw.mit.edu/ans7870/6/6.006/s08/lecturenotes/files/t8.shakespeare.txt into a separate textfile and have added it to the class' repository. We will thus download it from there:"
      ]
    },
    {
      "cell_type": "code",
      "metadata": {
        "id": "eTxp46sNyKNQ",
        "colab_type": "code",
        "outputId": "8e41362d-7624-4612-eb33-552a695be8f5",
        "colab": {
          "base_uri": "https://localhost:8080/",
          "height": 204
        }
      },
      "source": [
        "!wget https://raw.githubusercontent.com/MrtnMndt/mlpr19/master/week11/sonnets.txt"
      ],
      "execution_count": 2,
      "outputs": [
        {
          "output_type": "stream",
          "text": [
            "--2019-07-07 17:44:10--  https://raw.githubusercontent.com/MrtnMndt/mlpr19/master/week11/sonnets.txt\n",
            "Resolving raw.githubusercontent.com (raw.githubusercontent.com)... 151.101.0.133, 151.101.64.133, 151.101.128.133, ...\n",
            "Connecting to raw.githubusercontent.com (raw.githubusercontent.com)|151.101.0.133|:443... connected.\n",
            "HTTP request sent, awaiting response... 200 OK\n",
            "Length: 94083 (92K) [text/plain]\n",
            "Saving to: ‘sonnets.txt’\n",
            "\n",
            "\rsonnets.txt           0%[                    ]       0  --.-KB/s               \rsonnets.txt         100%[===================>]  91.88K  --.-KB/s    in 0.01s   \n",
            "\n",
            "2019-07-07 17:44:10 (8.17 MB/s) - ‘sonnets.txt’ saved [94083/94083]\n",
            "\n"
          ],
          "name": "stdout"
        }
      ]
    },
    {
      "cell_type": "markdown",
      "metadata": {
        "id": "wzimDdxq8oXk",
        "colab_type": "text"
      },
      "source": [
        "We can open the text file and print an excerpt."
      ]
    },
    {
      "cell_type": "code",
      "metadata": {
        "id": "fdSreQlxy11g",
        "colab_type": "code",
        "outputId": "c808aa5d-3ce9-423c-ef23-8fbbfe1c15c9",
        "colab": {
          "base_uri": "https://localhost:8080/",
          "height": 102
        }
      },
      "source": [
        "# Open shakespeare text file and read the data\n",
        "with open('sonnets.txt', 'r') as f:\n",
        "    text = f.read()\n",
        "    \n",
        "# print an excerpt of the text \n",
        "print(text[:200])"
      ],
      "execution_count": 3,
      "outputs": [
        {
          "output_type": "stream",
          "text": [
            "From fairest creatures we desire increase,\n",
            "That thereby beauty's rose might never die,\n",
            "But as the riper should by time decease,\n",
            "His tender heir might bear his memory:\n",
            "But thou contracted to thine own \n"
          ],
          "name": "stdout"
        }
      ]
    },
    {
      "cell_type": "markdown",
      "metadata": {
        "id": "CqofvzDN8u6Z",
        "colab_type": "text"
      },
      "source": [
        "As we are interested in a character based neural network, we will now create a mapping from the characters to numbers so that we can do our matrix calculations with numerical data. One such way is to simply replace every character with the corresponding integer in an alphabetical sequence. If we print our excerpt, we can now see the corresponding numerical values of each character."
      ]
    },
    {
      "cell_type": "code",
      "metadata": {
        "id": "rS8C0ndK0tce",
        "colab_type": "code",
        "outputId": "30e83edd-f077-44fb-f752-f123ad942e03",
        "colab": {
          "base_uri": "https://localhost:8080/",
          "height": 221
        }
      },
      "source": [
        "# We create two dictionaries:\n",
        "# 1. int2char, which maps integers to characters\n",
        "# 2. char2int, which maps characters to integers\n",
        "chars = tuple(set(text))\n",
        "int2char = dict(enumerate(chars))\n",
        "char2int = {ch: ii for ii, ch in int2char.items()}\n",
        "\n",
        "# Encode the text\n",
        "encoded = np.array([char2int[ch] for ch in text])\n",
        "\n",
        "# Again showing the excerpt, but this time as integers \n",
        "encoded[:200]"
      ],
      "execution_count": 4,
      "outputs": [
        {
          "output_type": "execute_result",
          "data": {
            "text/plain": [
              "array([29, 16, 52, 33, 40, 57, 45, 26, 16, 46, 60,  5, 40, 34, 16, 46, 45,\n",
              "        5, 55, 16, 46, 60, 40, 41, 46, 40, 13, 46, 60, 26, 16, 46, 40, 26,\n",
              "       21, 34, 16, 46, 45, 60, 46, 39,  6,  9, 25, 45,  5, 40,  5, 25, 46,\n",
              "       16, 46, 42,  1, 40, 42, 46, 45, 55,  5,  1, 59, 60, 40, 16, 52, 60,\n",
              "       46, 40, 33, 26, 17, 25,  5, 40, 21, 46, 54, 46, 16, 40, 13, 26, 46,\n",
              "       39,  6, 49, 55,  5, 40, 45, 60, 40,  5, 25, 46, 40, 16, 26, 44, 46,\n",
              "       16, 40, 60, 25, 52, 55, 18, 13, 40, 42,  1, 40,  5, 26, 33, 46, 40,\n",
              "       13, 46, 34, 46, 45, 60, 46, 39,  6,  3, 26, 60, 40,  5, 46, 21, 13,\n",
              "       46, 16, 40, 25, 46, 26, 16, 40, 33, 26, 17, 25,  5, 40, 42, 46, 45,\n",
              "       16, 40, 25, 26, 60, 40, 33, 46, 33, 52, 16,  1, 58,  6, 49, 55,  5,\n",
              "       40,  5, 25, 52, 55, 40, 34, 52, 21,  5, 16, 45, 34,  5, 46, 13, 40,\n",
              "        5, 52, 40,  5, 25, 26, 21, 46, 40, 52, 41, 21, 40])"
            ]
          },
          "metadata": {
            "tags": []
          },
          "execution_count": 4
        }
      ]
    },
    {
      "cell_type": "markdown",
      "metadata": {
        "id": "dZCdTzB39dNl",
        "colab_type": "text"
      },
      "source": [
        "### Data loader: batching\n",
        "\n",
        "We now have our entire text file encoded as integers, which serves as our dataset. Next, we will need to define our data loader, mainly the part that is missing, the random sampling of batches. Let us define this method:"
      ]
    },
    {
      "cell_type": "code",
      "metadata": {
        "id": "ZWq80TVX1DNo",
        "colab_type": "code",
        "colab": {}
      },
      "source": [
        "# Defining method to make mini-batches for training\n",
        "def get_batches(arr, batch_size, seq_length):\n",
        "    # determine the flattened batch size, i.e. sequence length times batch size\n",
        "    batch_size_total = batch_size * seq_length\n",
        "    # total number of batches we can make\n",
        "    n_batches = len(arr)//batch_size_total\n",
        "    \n",
        "    # Keep only enough characters to make full batches\n",
        "    arr = arr[:n_batches * batch_size_total]\n",
        "    # Reshape into batch_size rows\n",
        "    arr = arr.reshape((batch_size, -1))\n",
        "    \n",
        "    # iterate through the array, one sequence at a time\n",
        "    for n in range(0, arr.shape[1], seq_length):\n",
        "        # The features\n",
        "        x = arr[:, n:n+seq_length]\n",
        "        # The targets\n",
        "        y = np.zeros_like(x)\n",
        "        try:\n",
        "            y[:, :-1], y[:, -1] = x[:, 1:], arr[:, n+seq_length]\n",
        "        except IndexError:\n",
        "            y[:, :-1], y[:, -1] = x[:, 1:], arr[:, 0]\n",
        "        yield x, y"
      ],
      "execution_count": 0,
      "outputs": []
    },
    {
      "cell_type": "markdown",
      "metadata": {
        "id": "FWDjvcQW92ze",
        "colab_type": "text"
      },
      "source": [
        "### Targets/Labels\n",
        "\n",
        "We will be treating our problem as a classification task, where given an input the task is to predict the likelihood of the next character, i.e. we choose the class/character with the highest probability of a SoftMax output. Our model's output is thus a vector containing a probability for each unique character.\n",
        "\n",
        "Since we want to be able to feed our model's output back as input for the next time step, we should also give the network a one-hot encoded character as the input instead of just an integer, similar to what we have seen on our lecture's last slide. \n",
        "This way the network gets as input a one-hot vector of length corresponding to the number of total unique characters and predicts the likelihood for each character as output (for the next character in the sequence). We will thus write a function that converts our encoded characters from integers to one-hot vectors."
      ]
    },
    {
      "cell_type": "code",
      "metadata": {
        "id": "6l9QohlqnU-B",
        "colab_type": "code",
        "colab": {}
      },
      "source": [
        "def one_hot_encode(arr, n_labels):\n",
        "    \n",
        "    # Initialize the the encoded array\n",
        "    one_hot = np.zeros((np.multiply(*arr.shape), n_labels), dtype=np.float32)\n",
        "    \n",
        "    # Fill the appropriate elements with ones\n",
        "    one_hot[np.arange(one_hot.shape[0]), arr.flatten()] = 1.\n",
        "    \n",
        "    # Finally reshape it to get back to the original array\n",
        "    one_hot = one_hot.reshape((*arr.shape, n_labels))\n",
        "    \n",
        "    return one_hot"
      ],
      "execution_count": 0,
      "outputs": []
    },
    {
      "cell_type": "markdown",
      "metadata": {
        "id": "0GHm8hBaALrD",
        "colab_type": "text"
      },
      "source": [
        "## A simple RNN\n",
        "\n",
        "We will start with writing a simple RNN in PyTorch. To get a better understanding of how the RNN model works, we will not be using PyTorch's convenience RNN implementation, but write the main portion by hand ourselves. We will later use the convenience functions for the much more complicated LSTMs. \n",
        "\n",
        "Note that we could in principle do the same thing in pure Numpy but the advantage of implementing the forward logic in PyTorch is that we can use the automatic differentation for our backward pass and we do not need to implement the backpropagation through time ourselves. \n",
        "\n",
        "What we will learn here is:\n",
        "1. How to write a recurrent neural network (the forward pass)\n",
        "2. How to implement custom mathematical equations in the forward pass of a PyTorch model and leverage the automatic backward. "
      ]
    },
    {
      "cell_type": "code",
      "metadata": {
        "id": "Cgkv_TmovgBY",
        "colab_type": "code",
        "colab": {}
      },
      "source": [
        "class RNN(nn.Module):\n",
        "    def __init__(self, chars, device, hidden_sz, drop_prob=0.5):\n",
        "        super().__init__()\n",
        "        \n",
        "        self.device = device\n",
        "        \n",
        "        # creating character dictionaries\n",
        "        # we already have this code on the top, but giving it to our model \n",
        "        # will be convenient for doing predictions later\n",
        "        # i.e. doing conversions from text to integers to one-hot & vice-versa\n",
        "        self.n_chars = len(chars)\n",
        "        self.int2char = dict(enumerate(chars))\n",
        "        self.char2int = {ch: ii for ii, ch in self.int2char.items()}\n",
        "        \n",
        "        self.hidden_sz = hidden_sz\n",
        "        \n",
        "        # Note that this class inherits from the torch neural network class\n",
        "        # Instead of using a pre-built function we will write the math ourselves\n",
        "        # For this reason we will first need to define \"Parameters()\", that \n",
        "        # the PyTorch graph keeps track of and can optimize. In other words,\n",
        "        # let's give our class the weights & the bias that the RNN will need. \n",
        "        self.weight_ih = Parameter(torch.Tensor(self.n_chars, self.hidden_sz))\n",
        "        self.weight_hh = Parameter(torch.Tensor(self.hidden_sz, self.hidden_sz))\n",
        "        self.bias_hh = Parameter(torch.Tensor(self.hidden_sz))\n",
        "        \n",
        "        # Now that we have defined the RNN cell, let us define the output layer\n",
        "        # We will use a dropout layer to prevent overfitting and then \n",
        "        # follow with a conventional linear layer (matrix multiplication) that \n",
        "        # maps the RNN cell's output (the hidden state of the network) to the \n",
        "        # class output. Remembert that the class output corresponds to a \n",
        "        # vector of length of unique characters. \n",
        "        \n",
        "        # define a dropout layer\n",
        "        self.dropout = nn.Dropout(drop_prob)\n",
        "        \n",
        "        # define the final, fully-connected output layer. We can use a \n",
        "        # PyTorch nn function here (or you could add the corresponding math\n",
        "        # below and assign an additional weight & bias at the top). \n",
        "        # We can see that we can create very custom models this way\n",
        "        self.fc = nn.Linear(self.hidden_sz, self.n_chars)\n",
        "        \n",
        "        # We have assigned the Parameters above, but we will need to also \n",
        "        # initialize them. Let's write a function for that and initialize\n",
        "        # our weights and bias. \n",
        "        self.init_weights()\n",
        "\n",
        "    def init_weights(self):\n",
        "        nn.init.xavier_uniform_(self.weight_ih)\n",
        "        nn.init.xavier_uniform_(self.weight_hh)\n",
        "        nn.init.zeros_(self.bias_hh)\n",
        "    \n",
        "    def forward(self, x, h_t):\n",
        "        \"\"\"Assumes x is of shape (batch, sequence, feature)\"\"\"\n",
        "        bs, seq_sz, _ = x.size()\n",
        "        hidden_seq = []\n",
        "        \n",
        "        # Given an input and an initial hidden state, calculate the next hidden\n",
        "        # state for each sequence element.\n",
        "        # We append all the hidden states to a list (similar to a batch size)\n",
        "        # so that we can concatenate them in the batch and feed them to our\n",
        "        # last linear layer all in parallel to avoid looping through the final\n",
        "        # output layer as there is no more dependence on other time steps. \n",
        "        for t in range(seq_sz):\n",
        "            x_t = x[:, t, :]\n",
        "            h_t = torch.tanh(x_t @ self.weight_ih + h_t @ self.weight_hh + self.bias_hh)\n",
        "            hidden_seq.append(h_t.unsqueeze(0))\n",
        "            \n",
        "        # Do the concatenation and reshaping for convenience\n",
        "        hidden_seq = torch.cat(hidden_seq, dim=0)\n",
        "        # reshape from shape (sequence, batch, feature) to (batch, sequence, feature)\n",
        "        hidden_seq = hidden_seq.transpose(0, 1).contiguous()\n",
        "        \n",
        "        # Stack up the RNN outputs using view so that we can process the last \n",
        "        # layer in parallel\n",
        "        r_output = hidden_seq.contiguous().view(-1, self.hidden_sz)\n",
        "        \n",
        "        # pass through a dropout layer\n",
        "        out = self.dropout(r_output)\n",
        "        \n",
        "        # Calculate fully connected layer output that yields our class vector\n",
        "        out = self.fc(out)\n",
        "        \n",
        "        return out, h_t\n",
        "    \n",
        "    def init_hidden(self, batch_size=1):\n",
        "        ''' Initializes hidden state '''\n",
        "        # This is a convenience function so that we can initialize a hidden\n",
        "        # state to zero when we start prediction on a sequence. Every further\n",
        "        # step will then depend on the previous hidden state. \n",
        "        \n",
        "        # Create two new tensors with sizes batch_size x n_hidden,\n",
        "        # initialized to zero for hidden the RNN's hidden state.\n",
        "        weight = next(self.parameters()).data\n",
        "        h_t = weight.new(batch_size, self.hidden_sz).zero_().to(device)\n",
        "        \n",
        "        return h_t\n"
      ],
      "execution_count": 0,
      "outputs": []
    },
    {
      "cell_type": "markdown",
      "metadata": {
        "id": "UhNyXgWuFK2T",
        "colab_type": "text"
      },
      "source": [
        "The only thing missing is our training loop. It will look very similar to everything we have previously written, with two main differences:\n",
        "\n",
        "1. Our model is now also dependent on the hidden state and thus takes it as input and returns it as an additional output. \n",
        "2. Because we are using a recurrent neural network we will need to give our \"loss.backward()\" a \"retain_graph=True\" flag in order for it to log the history and be able to compute the backpropagation through time"
      ]
    },
    {
      "cell_type": "code",
      "metadata": {
        "id": "LSrhA4lR2EaP",
        "colab_type": "code",
        "colab": {}
      },
      "source": [
        "# Declaring the train method\n",
        "def train(model, data, device, optimizer, criterion, epochs=10, batch_size=10,\n",
        "          seq_length=50, clip=5):\n",
        "    model.train()\n",
        "    \n",
        "    for epoch in range(epochs):\n",
        "        # initialize first hidden states with zeros\n",
        "        h = model.init_hidden(batch_size)\n",
        "        \n",
        "        for x, y in get_batches(data, batch_size, seq_length):\n",
        "            # One-hot encode our data, make them torch tensors & cast to device\n",
        "            x = one_hot_encode(x, model.n_chars)\n",
        "            inputs, targets = torch.from_numpy(x), torch.from_numpy(y)\n",
        "            inputs, targets = inputs.to(device), targets.to(device)\n",
        "\n",
        "            # zero accumulated gradients\n",
        "            model.zero_grad()\n",
        "            \n",
        "            # get the output and hidden state from the model\n",
        "            output, h = model(inputs, h)\n",
        "            \n",
        "            # calculate the loss and perform backprop\n",
        "            # because we have flattened our batch and sequence in the model to \n",
        "            # be able to speed up the connection of the last fully-connected \n",
        "            # layer we now also need to view/flatten our target here\n",
        "            loss = criterion(output, targets.view(batch_size*seq_length).long())\n",
        "            loss.backward(retain_graph=True)\n",
        "            \n",
        "            # we use an additional trick of clipping gradients to avoid \n",
        "            # exploding gradients, which is a prominent problem in RNNs, just\n",
        "            # as the opposite problem of vanishing gradients.\n",
        "            nn.utils.clip_grad_norm_(model.parameters(), clip)\n",
        "            optimizer.step()\n",
        "            \n",
        "            \n",
        "        print(\"Epoch: {}/{}:\".format(epoch + 1, epochs),\n",
        "              \"Loss: {:.4f}:\".format(loss.item()))"
      ],
      "execution_count": 0,
      "outputs": []
    },
    {
      "cell_type": "code",
      "metadata": {
        "id": "FFKl2jWi2GeC",
        "colab_type": "code",
        "colab": {
          "base_uri": "https://localhost:8080/",
          "height": 1000
        },
        "outputId": "61599887-12f7-4e68-d10f-f75051aaa5ad"
      },
      "source": [
        "# Define the model\n",
        "n_hidden=512\n",
        "model = RNN(chars, device, n_hidden).to(device)\n",
        "\n",
        "# Hyperparameters\n",
        "batch_size = 128\n",
        "seq_length = 100\n",
        "epochs = 300 # start with 50 or similar if you are debugging \n",
        "# train much longer if you want good results\n",
        "\n",
        "optimizer = torch.optim.Adam(model.parameters(), lr=0.001)\n",
        "criterion = nn.CrossEntropyLoss()\n",
        "\n",
        "# train the model\n",
        "train(model, encoded, device, optimizer, criterion, epochs=epochs,\n",
        "      batch_size=batch_size, seq_length=seq_length)"
      ],
      "execution_count": 0,
      "outputs": [
        {
          "output_type": "stream",
          "text": [
            "Epoch: 1/300: Loss: 3.5846:\n",
            "Epoch: 2/300: Loss: 3.6902:\n",
            "Epoch: 3/300: Loss: 4.0941:\n",
            "Epoch: 4/300: Loss: 3.3140:\n",
            "Epoch: 5/300: Loss: 3.3724:\n",
            "Epoch: 6/300: Loss: 3.6087:\n",
            "Epoch: 7/300: Loss: 3.6387:\n",
            "Epoch: 8/300: Loss: 3.6374:\n",
            "Epoch: 9/300: Loss: 3.3917:\n",
            "Epoch: 10/300: Loss: 4.2756:\n",
            "Epoch: 11/300: Loss: 4.1329:\n",
            "Epoch: 12/300: Loss: 4.1115:\n",
            "Epoch: 13/300: Loss: 4.1041:\n",
            "Epoch: 14/300: Loss: 4.0623:\n",
            "Epoch: 15/300: Loss: 4.0090:\n",
            "Epoch: 16/300: Loss: 3.8913:\n",
            "Epoch: 17/300: Loss: 3.2383:\n",
            "Epoch: 18/300: Loss: 3.1785:\n",
            "Epoch: 19/300: Loss: 3.1514:\n",
            "Epoch: 20/300: Loss: 3.1273:\n",
            "Epoch: 21/300: Loss: 3.1100:\n",
            "Epoch: 22/300: Loss: 3.0905:\n",
            "Epoch: 23/300: Loss: 3.0712:\n",
            "Epoch: 24/300: Loss: 3.0639:\n",
            "Epoch: 25/300: Loss: 3.0493:\n",
            "Epoch: 26/300: Loss: 3.0213:\n",
            "Epoch: 27/300: Loss: 3.0027:\n",
            "Epoch: 28/300: Loss: 2.9893:\n",
            "Epoch: 29/300: Loss: 2.9568:\n",
            "Epoch: 30/300: Loss: 2.9392:\n",
            "Epoch: 31/300: Loss: 2.9071:\n",
            "Epoch: 32/300: Loss: 2.8749:\n",
            "Epoch: 33/300: Loss: 2.8459:\n",
            "Epoch: 34/300: Loss: 2.8317:\n",
            "Epoch: 35/300: Loss: 2.8018:\n",
            "Epoch: 36/300: Loss: 2.7712:\n",
            "Epoch: 37/300: Loss: 2.7660:\n",
            "Epoch: 38/300: Loss: 2.7131:\n",
            "Epoch: 39/300: Loss: 2.6820:\n",
            "Epoch: 40/300: Loss: 2.6632:\n",
            "Epoch: 41/300: Loss: 2.6234:\n",
            "Epoch: 42/300: Loss: 2.6097:\n",
            "Epoch: 43/300: Loss: 2.5773:\n",
            "Epoch: 44/300: Loss: 2.5580:\n",
            "Epoch: 45/300: Loss: 2.5379:\n",
            "Epoch: 46/300: Loss: 2.5228:\n",
            "Epoch: 47/300: Loss: 2.4994:\n",
            "Epoch: 48/300: Loss: 2.6292:\n",
            "Epoch: 49/300: Loss: 2.6000:\n",
            "Epoch: 50/300: Loss: 2.5344:\n",
            "Epoch: 51/300: Loss: 2.4847:\n",
            "Epoch: 52/300: Loss: 2.4524:\n",
            "Epoch: 53/300: Loss: 2.4415:\n",
            "Epoch: 54/300: Loss: 2.4151:\n",
            "Epoch: 55/300: Loss: 2.4008:\n",
            "Epoch: 56/300: Loss: 2.3891:\n",
            "Epoch: 57/300: Loss: 2.3730:\n",
            "Epoch: 58/300: Loss: 2.3656:\n",
            "Epoch: 59/300: Loss: 2.3529:\n",
            "Epoch: 60/300: Loss: 2.3485:\n",
            "Epoch: 61/300: Loss: 2.3374:\n",
            "Epoch: 62/300: Loss: 2.3274:\n",
            "Epoch: 63/300: Loss: 2.3236:\n",
            "Epoch: 64/300: Loss: 2.3144:\n",
            "Epoch: 65/300: Loss: 2.3048:\n",
            "Epoch: 66/300: Loss: 2.2908:\n",
            "Epoch: 67/300: Loss: 2.2751:\n",
            "Epoch: 68/300: Loss: 2.2760:\n",
            "Epoch: 69/300: Loss: 2.2684:\n",
            "Epoch: 70/300: Loss: 2.2668:\n",
            "Epoch: 71/300: Loss: 2.2575:\n",
            "Epoch: 72/300: Loss: 2.2567:\n",
            "Epoch: 73/300: Loss: 2.2957:\n",
            "Epoch: 74/300: Loss: 2.2540:\n",
            "Epoch: 75/300: Loss: 2.2413:\n",
            "Epoch: 76/300: Loss: 2.2283:\n",
            "Epoch: 77/300: Loss: 2.2268:\n",
            "Epoch: 78/300: Loss: 2.2262:\n",
            "Epoch: 79/300: Loss: 2.2123:\n",
            "Epoch: 80/300: Loss: 2.2098:\n",
            "Epoch: 81/300: Loss: 2.2013:\n",
            "Epoch: 82/300: Loss: 2.1944:\n",
            "Epoch: 83/300: Loss: 2.1980:\n",
            "Epoch: 84/300: Loss: 2.2015:\n",
            "Epoch: 85/300: Loss: 2.1800:\n",
            "Epoch: 86/300: Loss: 2.1787:\n",
            "Epoch: 87/300: Loss: 2.1932:\n",
            "Epoch: 88/300: Loss: 2.1761:\n",
            "Epoch: 89/300: Loss: 2.1821:\n",
            "Epoch: 90/300: Loss: 2.1643:\n",
            "Epoch: 91/300: Loss: 2.1607:\n",
            "Epoch: 92/300: Loss: 2.1597:\n",
            "Epoch: 93/300: Loss: 2.1492:\n",
            "Epoch: 94/300: Loss: 2.1473:\n",
            "Epoch: 95/300: Loss: 2.2030:\n",
            "Epoch: 96/300: Loss: 2.1695:\n",
            "Epoch: 97/300: Loss: 2.1583:\n",
            "Epoch: 98/300: Loss: 2.1460:\n",
            "Epoch: 99/300: Loss: 2.1388:\n",
            "Epoch: 100/300: Loss: 2.1438:\n",
            "Epoch: 101/300: Loss: 2.1312:\n",
            "Epoch: 102/300: Loss: 2.1298:\n",
            "Epoch: 103/300: Loss: 2.1204:\n",
            "Epoch: 104/300: Loss: 2.1257:\n",
            "Epoch: 105/300: Loss: 2.1137:\n",
            "Epoch: 106/300: Loss: 2.1044:\n",
            "Epoch: 107/300: Loss: 2.1037:\n",
            "Epoch: 108/300: Loss: 2.0996:\n",
            "Epoch: 109/300: Loss: 2.0973:\n",
            "Epoch: 110/300: Loss: 2.0891:\n",
            "Epoch: 111/300: Loss: 2.0956:\n"
          ],
          "name": "stdout"
        }
      ]
    },
    {
      "cell_type": "markdown",
      "metadata": {
        "id": "vIndlrMSGMmZ",
        "colab_type": "text"
      },
      "source": [
        "You should observe the loss sinking consistently. In fact you can observe that the model training hasn't fully converged yet. If you feel like you want to spend the time later to see how \n",
        "well you can get your RNN to perform, try training it for longer/until convergence. \n",
        "\n",
        "Once we have trained the model it will be interesting to use it for prediction. To generate new content we would like to feed in an initial sequence or even just a single character and see what the model generates for the rest of the sequence conditioned on our input. \n",
        "\n",
        "Let us write the logic for that:"
      ]
    },
    {
      "cell_type": "code",
      "metadata": {
        "id": "A53V0aKj2IfT",
        "colab_type": "code",
        "colab": {}
      },
      "source": [
        "def predict(model, char, device, h=None, top_k=5):\n",
        "        ''' Given a character & hidden state, predict the next character.\n",
        "            Returns the predicted character and the hidden state.\n",
        "        '''\n",
        "        \n",
        "        # tensor inputs\n",
        "        x = np.array([[model.char2int[char]]])\n",
        "        x = one_hot_encode(x, model.n_chars)\n",
        "        inputs = torch.from_numpy(x).to(device)\n",
        "        \n",
        "        with torch.no_grad():\n",
        "            # get the output of the model\n",
        "            out, h = model(inputs, h)\n",
        "\n",
        "            # get the character probabilities\n",
        "            # move to cpu for further processing with numpy etc. \n",
        "            p = F.softmax(out, dim=1).data.cpu()\n",
        "\n",
        "            # get the top characters with highest likelihood\n",
        "            p, top_ch = p.topk(top_k)\n",
        "            top_ch = top_ch.numpy().squeeze()\n",
        "\n",
        "            # select the likely next character with some element of randomness\n",
        "            # for more variability\n",
        "            p = p.numpy().squeeze()\n",
        "            char = np.random.choice(top_ch, p=p/p.sum())\n",
        "        \n",
        "        # return the encoded value of the predicted char and the hidden state\n",
        "        return model.int2char[char], h"
      ],
      "execution_count": 0,
      "outputs": []
    },
    {
      "cell_type": "code",
      "metadata": {
        "id": "wHAMT5xTlYY0",
        "colab_type": "code",
        "colab": {}
      },
      "source": [
        "def sample(model, size, device, prime='A', top_k=None):\n",
        "    # method to generate new text based on a \"prime\"/initial sequence. \n",
        "    # Basically, the outer loop convenience function that calls the above\n",
        "    # defined predict method. \n",
        "    model.eval() # eval mode\n",
        "    \n",
        "    # Calculate model for the initial prime characters\n",
        "    chars = [ch for ch in prime]\n",
        "    with torch.no_grad():\n",
        "        # initialize hidden with 0 in the beginning. Set our batch size to 1 \n",
        "        # as we wish to generate one sequence only. \n",
        "        h = model.init_hidden(batch_size=1)\n",
        "        for ch in prime:\n",
        "            char, h = predict(model, ch, device, h=h, top_k=top_k)\n",
        "\n",
        "        # append the characters to the sequence\n",
        "        chars.append(char)\n",
        "\n",
        "        # Now pass in the previous/last character and get a new one\n",
        "        # Repeat this process for the desired length of the sequence to be \n",
        "        # generated\n",
        "        for ii in range(size):\n",
        "            char, h = predict(model, chars[-1], device, h=h, top_k=top_k)\n",
        "            chars.append(char)\n",
        "\n",
        "    return ''.join(chars)"
      ],
      "execution_count": 0,
      "outputs": []
    },
    {
      "cell_type": "markdown",
      "metadata": {
        "id": "1wgYQs7FH2wo",
        "colab_type": "text"
      },
      "source": [
        "### Generating poems\n",
        "\n",
        "We are now set to call our sample method with our trained model, a prime sequence and a desired sequence length to be generated. "
      ]
    },
    {
      "cell_type": "code",
      "metadata": {
        "id": "HClso847laed",
        "colab_type": "code",
        "colab": {}
      },
      "source": [
        "print(sample(model, 1000, device, prime='A', top_k=5))"
      ],
      "execution_count": 0,
      "outputs": []
    },
    {
      "cell_type": "markdown",
      "metadata": {
        "id": "Rjkj103bICMs",
        "colab_type": "text"
      },
      "source": [
        "We can see that our RNN typically starts out correctly and sometimes is able to generate correct words but quickly goes on to generate junk as there is no long term dependencies. \n",
        "\n",
        "We will now implement a PyTorch LSTM to see how to improve upon this."
      ]
    },
    {
      "cell_type": "markdown",
      "metadata": {
        "id": "NPG6v0M7IVOB",
        "colab_type": "text"
      },
      "source": [
        "## Long Short Term Memory (LSTM)\n",
        "\n",
        "Let's take our recurrent neural network class that we have defined above and replace the simple RNN cell with one or even multiple stacked LSTM cells. \n",
        "\n",
        "If you want to go for the challenge you can try implementing this by hand similarly to the RNN cell we have defined. However, if you don't want to go through the tour-de-force exercise, you can go on ahead and use PyTorch's \"nn.LSTM()\" convenience method: https://pytorch.org/docs/stable/nn.html#torch.nn.LSTM \n",
        "\n",
        "You can try using a stack of 2 LSTM hidden layers to simply replace the RNN cell."
      ]
    },
    {
      "cell_type": "code",
      "metadata": {
        "id": "1dIQmxMEDs41",
        "colab_type": "code",
        "colab": {}
      },
      "source": [
        "class LSTM(nn.Module):\n",
        "    \n",
        "    def __init__(self, chars, device, n_hidden=256, n_layers=2, drop_prob=0.5):\n",
        "        super().__init__()\n",
        "        \n",
        "        self.device = device\n",
        "        \n",
        "        self.drop_prob = drop_prob\n",
        "        self.n_layers = n_layers\n",
        "        self.n_hidden = n_hidden\n",
        "        \n",
        "        # creating character dictionaries\n",
        "        # we already have this code on the top, but giving it to our model \n",
        "        # will be convenient for doing predictions later\n",
        "        # i.e. doing conversions from text to integers to one-hot & vice-versa\n",
        "        self.n_chars = len(chars)\n",
        "        self.int2char = dict(enumerate(chars))\n",
        "        self.char2int = {ch: ii for ii, ch in self.int2char.items()}\n",
        "        \n",
        "        # define the LSTM\n",
        "        # we no longer need to care about wieght initialization as PyTorch\n",
        "        # will handle this for us now. \n",
        "        # When defining PyTorch's nn.LSTM() set \"batch_first=True\" to assign\n",
        "        # the batch size to the first dimension (instead of the sequence) to\n",
        "        # stay consistent with our RNN implementation and re-use our code. \n",
        "        self.lstm = nn.LSTM(self.n_chars, n_hidden, n_layers, \n",
        "                            dropout=drop_prob, batch_first=True)\n",
        "        \n",
        "        # define a dropout layer\n",
        "        self.dropout = nn.Dropout(drop_prob)\n",
        "        \n",
        "        # define the final, fully-connected output layer\n",
        "        self.fc = nn.Linear(n_hidden, self.n_chars)\n",
        "        \n",
        "    def forward(self, x, hidden):\n",
        "        ''' Forward pass through the network. \n",
        "            The inputs are x, and the hidden & cell state in a tuple. '''\n",
        "        \n",
        "        # get the outputs and the new hidden states from the LSTM. \n",
        "        # Note that the hidden variable now is a tuple of hidden and cell state\n",
        "        # in contrast to the RNN that just had the hidden state. \n",
        "        # Because we are using the PyTorch LSTM we do not need to implement\n",
        "        # the loop anymore as the sequence will be handled internally. \n",
        "        r_output, hidden = self.lstm(x, hidden)\n",
        "        \n",
        "        # pass through a dropout layer\n",
        "        out = self.dropout(r_output)\n",
        "        \n",
        "        # Stack up the LSTM outputs using view so that we can process the last \n",
        "        # layer in parallel\n",
        "        out = out.contiguous().view(-1, self.n_hidden)\n",
        "        \n",
        "        # Calculate fully connected layer output that yields our class vector\n",
        "        out = self.fc(out)\n",
        "        \n",
        "        return out, hidden\n",
        "    \n",
        "    def init_hidden(self, batch_size=1):\n",
        "        ''' Initializes hidden state '''\n",
        "        # This is a convenience function so that we can initialize the hidden\n",
        "        # states to zero when we start prediction on a sequence. Every further\n",
        "        # step will then depend on the previous hidden states (c and h). \n",
        "        \n",
        "        # Create a tuple of two new tensors with sizes\n",
        "        # n_layers x batch_size x n_hidden, initialized to zero for the\n",
        "        # LSTM hidden and cell states. \n",
        "        weight = next(self.parameters()).data\n",
        "\n",
        "        hidden = (weight.new(self.n_layers, batch_size, self.n_hidden).zero_().to(device),\n",
        "                  weight.new(self.n_layers, batch_size, self.n_hidden).zero_().to(device))\n",
        "        \n",
        "        return hidden"
      ],
      "execution_count": 0,
      "outputs": []
    },
    {
      "cell_type": "markdown",
      "metadata": {
        "id": "GL9kCT6TK2QT",
        "colab_type": "text"
      },
      "source": [
        "We can use the exact same code to train our newly defined LSTM model. Let's try with the same amount of hidden units and 2 LSTM cells. "
      ]
    },
    {
      "cell_type": "code",
      "metadata": {
        "id": "cW70FQwT2g_h",
        "colab_type": "code",
        "colab": {}
      },
      "source": [
        "# Define the model\n",
        "n_hidden=512\n",
        "n_layers=2\n",
        "\n",
        "model = LSTM(chars, device, n_hidden, n_layers).to(device)\n",
        "\n",
        "# Declaring the hyperparameters\n",
        "batch_size = 128\n",
        "seq_length = 100\n",
        "epochs = 300 # start with 50 or similar if you are debugging \n",
        "# train much longer if you want good results\n",
        "\n",
        "optimizer = torch.optim.Adam(model.parameters(), lr=0.001)\n",
        "criterion = nn.CrossEntropyLoss()\n",
        "\n",
        "# train the model\n",
        "train(model, encoded, device, optimizer, criterion, epochs=epochs,\n",
        "      batch_size=batch_size, seq_length=seq_length)"
      ],
      "execution_count": 0,
      "outputs": []
    },
    {
      "cell_type": "markdown",
      "metadata": {
        "id": "OTznlDdJK81w",
        "colab_type": "text"
      },
      "source": [
        "We can observe that our model is able to achieve a much lower loss than before with our simple RNN implementation. This should now also be reflected when we generate/sample new sonnets. \n",
        "\n",
        "Again, you can observe that the loss still continues to improve, even after 300 epochs. For the best results, try training the model longer. "
      ]
    },
    {
      "cell_type": "code",
      "metadata": {
        "id": "m4pmGQ5J2lmJ",
        "colab_type": "code",
        "colab": {}
      },
      "source": [
        "# Generating new text\n",
        "print(sample(model, 1000, device, prime='A', top_k=5))"
      ],
      "execution_count": 0,
      "outputs": []
    },
    {
      "cell_type": "markdown",
      "metadata": {
        "id": "AXT-5Y-rLRKt",
        "colab_type": "text"
      },
      "source": [
        "Arguably there is still discrepancy to the original Shakespeare texts in our just generated examples. However, if we compare this output to our RNN's output, we can see that the LSTM is able to achieve much more consistency in generating proper words as well as sometimes portions of sentences that have improved in terms of grammar. There now seems to be more overall structure. "
      ]
    }
  ]
}