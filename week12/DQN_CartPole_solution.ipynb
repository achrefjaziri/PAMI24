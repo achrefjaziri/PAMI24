{
  "nbformat": 4,
  "nbformat_minor": 0,
  "metadata": {
    "colab": {
      "name": "DQN_CartPole_solution.ipynb",
      "provenance": [],
      "collapsed_sections": [],
      "include_colab_link": true
    },
    "kernelspec": {
      "name": "python3",
      "display_name": "Python 3"
    },
    "accelerator": "GPU"
  },
  "cells": [
    {
      "cell_type": "markdown",
      "metadata": {
        "id": "view-in-github",
        "colab_type": "text"
      },
      "source": [
        "<a href=\"https://colab.research.google.com/github/ccc-frankfurt/Practical_ML_SS21/blob/main/week11/DQN_CartPole_solution.ipynb\" target=\"_parent\"><img src=\"https://colab.research.google.com/assets/colab-badge.svg\" alt=\"Open In Colab\"/></a>"
      ]
    },
    {
      "cell_type": "markdown",
      "metadata": {
        "id": "gRyizSSW2LDA"
      },
      "source": [
        "This notebook is based on coursera's Practical RL course by National Research University Higher School of Economics, https://www.coursera.org/learn/practical-rl/home/welcome\n",
        "\n",
        "We will make a DQN-Learning agent to solve OpenAI Gym's CartPole problem.\n",
        "\n",
        "Q-Learning update equations:\n",
        "\n",
        "\n",
        "*   tabular: $$ Q(s,a) := (1 - \\alpha) \\cdot Q(s,a) + \\alpha \\cdot (r(s,a) + \\gamma \\cdot V(s')) \\\\ = Q(s,a) + \\alpha \\cdot (r(s,a) + \\gamma \\cdot V(s') - Q(s,a))$$\n",
        "*    DQN: $$ L = { 1 \\over N} \\sum_i (Q_{\\theta}(s,a) - [r(s,a) + \\gamma \\cdot max_{a'} Q_{-}(s', a')]) ^2 $$"
      ]
    },
    {
      "cell_type": "code",
      "metadata": {
        "id": "KdVjjTaIlms4",
        "colab": {
          "base_uri": "https://localhost:8080/"
        },
        "outputId": "202abe53-af8f-4a67-c994-ee0af44d84c5"
      },
      "source": [
        "from collections import defaultdict\n",
        "import random, math\n",
        "import numpy as np\n",
        "import matplotlib.pyplot as plt\n",
        "from matplotlib import animation\n",
        "from IPython.display import HTML\n",
        "\n",
        "import torch\n",
        "import torch.nn as nn\n",
        "import torch.optim as optim\n",
        "\n",
        "manualSeed = 999\n",
        "print(\"Random Seed: \", manualSeed)\n",
        "random.seed(manualSeed)\n",
        "torch.manual_seed(manualSeed)"
      ],
      "execution_count": null,
      "outputs": [
        {
          "output_type": "stream",
          "text": [
            "Random Seed:  999\n"
          ],
          "name": "stdout"
        },
        {
          "output_type": "execute_result",
          "data": {
            "text/plain": [
              "<torch._C.Generator at 0x7f8f36e9abf0>"
            ]
          },
          "metadata": {
            "tags": []
          },
          "execution_count": 1
        }
      ]
    },
    {
      "cell_type": "code",
      "metadata": {
        "id": "tqWiwab7tuP8",
        "colab": {
          "base_uri": "https://localhost:8080/"
        },
        "outputId": "fbf03d60-c8b3-40e0-f91a-47baa5e7a6ae"
      },
      "source": [
        "#XVFB will be launched if you run on a server\n",
        "import os\n",
        "if os.environ.get(\"DISPLAY\") is not str or len(os.environ.get(\"DISPLAY\"))==0:\n",
        "    #!bash ../xvfb start\n",
        "    %env DISPLAY=:1"
      ],
      "execution_count": null,
      "outputs": [
        {
          "output_type": "stream",
          "text": [
            "env: DISPLAY=:1\n"
          ],
          "name": "stdout"
        }
      ]
    },
    {
      "cell_type": "code",
      "metadata": {
        "id": "ZsTERNDJnN4g",
        "colab": {
          "base_uri": "https://localhost:8080/"
        },
        "outputId": "e1fe5a17-6724-45f8-e14b-f0d14a18b73f"
      },
      "source": [
        "!apt-get -qq -y install xvfb freeglut3-dev cmake swig ffmpeg> /dev/null 2>&1\n",
        "!pip install pyvirtualdisplay\n",
        "\n",
        "from pyvirtualdisplay import Display\n",
        "display = Display(visible=0, size=(400, 300))\n",
        "display.start()\n",
        "%matplotlib inline"
      ],
      "execution_count": null,
      "outputs": [
        {
          "output_type": "stream",
          "text": [
            "Collecting pyvirtualdisplay\n",
            "  Downloading https://files.pythonhosted.org/packages/79/30/e99e0c480a858410757e7516958e149285ea08ed6c9cfe201ed0aa12cee2/PyVirtualDisplay-2.2-py3-none-any.whl\n",
            "Collecting EasyProcess\n",
            "  Downloading https://files.pythonhosted.org/packages/48/3c/75573613641c90c6d094059ac28adb748560d99bd27ee6f80cce398f404e/EasyProcess-0.3-py2.py3-none-any.whl\n",
            "Installing collected packages: EasyProcess, pyvirtualdisplay\n",
            "Successfully installed EasyProcess-0.3 pyvirtualdisplay-2.2\n"
          ],
          "name": "stdout"
        }
      ]
    },
    {
      "cell_type": "code",
      "metadata": {
        "id": "iRp87KGKu8Ia",
        "colab": {
          "base_uri": "https://localhost:8080/",
          "height": 375
        },
        "outputId": "b7e2ccbc-ef8c-4aac-b8fc-304ba99f50ea"
      },
      "source": [
        "import gym\n",
        "\n",
        "env = gym.make(\"CartPole-v0\").env\n",
        "s = env.reset()\n",
        "\n",
        "n_actions = env.action_space.n\n",
        "state_dim = env.observation_space.shape[0]\n",
        "\n",
        "print(n_actions)\n",
        "# continuous (!) valued observations: Cart Position, Cart Velocity, Pole Angle, Pole Velocity at Tip\n",
        "print(env.observation_space)\n",
        "print('state:')\n",
        "print(s)\n",
        "print(state_dim)\n",
        "plt.imshow(env.render('rgb_array'))"
      ],
      "execution_count": null,
      "outputs": [
        {
          "output_type": "stream",
          "text": [
            "2\n",
            "Box(-3.4028234663852886e+38, 3.4028234663852886e+38, (4,), float32)\n",
            "state:\n",
            "[0.00942865 0.02935984 0.01459809 0.01868423]\n",
            "4\n"
          ],
          "name": "stdout"
        },
        {
          "output_type": "execute_result",
          "data": {
            "text/plain": [
              "<matplotlib.image.AxesImage at 0x7f8f211be550>"
            ]
          },
          "metadata": {
            "tags": []
          },
          "execution_count": 4
        },
        {
          "output_type": "display_data",
          "data": {
            "image/png": "[encoded data removed]",
            "text/plain": [
              "<Figure size 432x288 with 1 Axes>"
            ]
          },
          "metadata": {
            "tags": [],
            "needs_background": "light"
          }
        }
      ]
    },
    {
      "cell_type": "code",
      "metadata": {
        "id": "H51R6ZQXglwK"
      },
      "source": [
        "class DQNAgent:\n",
        "    def __init__(self, state_dim, n_actions, epsilon=0, device='cuda'):\n",
        "        \"\"\"A simple DQN agent\"\"\"\n",
        "        \n",
        "                         \n",
        "        # Create a network for approximate q-learning:\n",
        "        # what is the input dimension?\n",
        "        # Linear(128), followed by RELU activation\n",
        "        # Linear(128), followed by RELU activation\n",
        "        # Last linear output layer: what should be the number of units?\n",
        "        self.network = nn.Sequential(nn.Linear(state_dim, 128),\n",
        "                                     nn.ReLU(),\n",
        "                                     nn.Linear(128, 128),\n",
        "                                     nn.ReLU(),\n",
        "                                     nn.Linear(128,n_actions)).to(device)\n",
        "            \n",
        "        self.epsilon = epsilon\n",
        "        self.device = device\n",
        "        \n",
        "    def get_qvalues(self, state_t):\n",
        "        return self.network(state_t)\n",
        "    \n",
        "    def sample_action(self, qvalues):\n",
        "        \"\"\"Pick actions given qvalues. Uses epsilon-greedy exploration strategy. \"\"\"\n",
        "        epsilon = self.epsilon\n",
        "        batch_size, n_actions = qvalues.shape\n",
        "        # choose random actions with np.random.choice\n",
        "        # there have to be batch_size of them - one for every batch instance\n",
        "        random_actions = np.random.choice(n_actions, size=batch_size)\n",
        "        # for every batch instance calculate the index of the maximum qvalue\n",
        "        # hint: use the axis parameter of arg max\n",
        "        best_actions = qvalues.argmax(axis=-1)\n",
        "        # with probability epsilon should explore is 1 and else 0\n",
        "        should_explore = np.random.choice([0, 1], batch_size, p = [1-epsilon, epsilon])\n",
        "        # take random_actions is should_explore is 1 and best_actions else\n",
        "        return np.where(should_explore, random_actions, best_actions)\n",
        "    \n",
        "    def get_action(self, state_t):\n",
        "        # since in our case we learn on 1 sample only, we put the state into list to make batch_size=1\n",
        "        state_pt = torch.Tensor([state_t]).float().to(self.device)\n",
        "        qvalues = self.get_qvalues(state_pt).cpu().detach().numpy()\n",
        "        \n",
        "        # sample_action returns a list, so we take the first element, because our batch_size=1\n",
        "        return self.sample_action(qvalues)[0]\n",
        "    \n",
        "    def update(self, s, a, r, next_s, done):\n",
        "        self.optimizer.zero_grad()\n",
        "        \n",
        "        loss = self.loss_function([s],[a],[r],[next_s],[done])\n",
        "        \n",
        "        loss.backward()\n",
        "        \n",
        "        self.optimizer.step()\n",
        "        \n",
        "    def loss_function(self, states, actions, rewards, next_states, is_done):\n",
        "        states_tmp = torch.Tensor(states).float().to(self.device)\n",
        "        actions_tmp = np.array(actions) # assure its an array and not a list\n",
        "        rewards_tmp = torch.Tensor(rewards).float().to(self.device)\n",
        "        next_states_tmp = torch.Tensor(next_states).float().to(self.device)\n",
        "        is_done_tmp = torch.Tensor(is_done).float().to(self.device)\n",
        "        \n",
        "        is_not_done = 1. - is_done_tmp\n",
        "        gamma = 0.99\n",
        "\n",
        "        \"\"\"Take q-values for actions agent just took\"\"\"\n",
        "\n",
        "        current_qvalues = self.get_qvalues(states_tmp)\n",
        "        \n",
        "        # Create a one-hot target encoding\n",
        "        # empty one-hot matrix: (number of batch instances, number of actions)\n",
        "        one_hot_actions = np.zeros((actions_tmp.shape[0], n_actions))\n",
        "\n",
        "        # set target idx to 1 - target is the index of the chosen action here\n",
        "        one_hot_actions[np.arange(actions_tmp.shape[0]), actions_tmp] = 1.\n",
        "        one_hot_actions = torch.Tensor(one_hot_actions).float().to(self.device)\n",
        "        \n",
        "        # for every batch instance, get the qvalue for the chosen action\n",
        "        # hint: use one_hot_actions and current_q_values, do not forget to set keepdim=True\n",
        "        current_action_qvalues = torch.sum(one_hot_actions*current_qvalues, dim=1, keepdim=True)\n",
        "\n",
        "        # compute q-values for NEXT states\n",
        "        # hint: use next_states_ph\n",
        "        next_qvalues_target = self.get_qvalues(next_states_tmp)\n",
        "\n",
        "        # compute state values by taking max over next_qvalues_target for all actions\n",
        "        # hint: use next_qvalues_target and do not forget to set keepdim=True\n",
        "        next_state_values_target,_ = next_qvalues_target.max(dim=1, keepdim=True)\n",
        "\n",
        "        # compute Q_reference(s,a) as per r + gamma*v_next*is_not_done\n",
        "        # ATTENTION: think about what v_next is\n",
        "        reference_qvalues = rewards_tmp + gamma*next_state_values_target*is_not_done\n",
        "        # stop gradients of reference_qvalues\n",
        "        reference_qvalues = reference_qvalues.detach()\n",
        "\n",
        "        # Define loss function for sgd.\n",
        "        td_loss = (reference_qvalues - current_action_qvalues) ** 2\n",
        "        td_loss = torch.mean(td_loss)\n",
        "        \n",
        "        return td_loss\n",
        "        \n",
        "    def set_optimizer(self):\n",
        "        \n",
        "        self.optimizer = optim.Adam(self.network.parameters(), lr=1e-4)"
      ],
      "execution_count": null,
      "outputs": []
    },
    {
      "cell_type": "code",
      "metadata": {
        "id": "v0sBB3ZbsSqQ",
        "colab": {
          "base_uri": "https://localhost:8080/"
        },
        "outputId": "ce79afc0-964e-4514-baa6-d338c2a2707c"
      },
      "source": [
        "agent = DQNAgent(state_dim, n_actions, epsilon=0.5, device='cuda')\n",
        "print(agent.network)"
      ],
      "execution_count": null,
      "outputs": [
        {
          "output_type": "stream",
          "text": [
            "Sequential(\n",
            "  (0): Linear(in_features=4, out_features=128, bias=True)\n",
            "  (1): ReLU()\n",
            "  (2): Linear(in_features=128, out_features=128, bias=True)\n",
            "  (3): ReLU()\n",
            "  (4): Linear(in_features=128, out_features=2, bias=True)\n",
            ")\n"
          ],
          "name": "stdout"
        }
      ]
    },
    {
      "cell_type": "code",
      "metadata": {
        "id": "qRsZdbgFhK5O"
      },
      "source": [
        "# since it is an NN agent, we need to set an optimizer\n",
        "agent.set_optimizer()"
      ],
      "execution_count": null,
      "outputs": []
    },
    {
      "cell_type": "code",
      "metadata": {
        "id": "l7AysnffDtLF"
      },
      "source": [
        "# update at each train step\n",
        "def play_and_train(env,agent,t_max=1000, train=True):\n",
        "    \"\"\"\n",
        "    This function should \n",
        "    - run a full game, actions given by agent's e-greedy policy\n",
        "    - train agent using agent.update(...) whenever it is possible\n",
        "    - return total reward\n",
        "    \"\"\"\n",
        "    total_reward = 0.0\n",
        "    s = env.reset()\n",
        "    \n",
        "    for t in range(t_max):\n",
        "        # get agent to pick action given state s.\n",
        "        a = agent.get_action(s)\n",
        "\n",
        "        next_s, r, done, _ = env.step(a)\n",
        "        \n",
        "        if train:\n",
        "            # train (update) agent for state s\n",
        "            agent.update(s, a, r, next_s, done)\n",
        "        \n",
        "        s = next_s\n",
        "        total_reward +=r\n",
        "        if done: break\n",
        "        \n",
        "    return total_reward"
      ],
      "execution_count": null,
      "outputs": []
    },
    {
      "cell_type": "markdown",
      "metadata": {
        "id": "08joimEEytgF"
      },
      "source": [
        "* __ mean reward__ is the average reward per game. For a correct implementation it may stay low for some 10 epochs, then start growing while oscilating insanely and converges by ~50-100 steps depending on the network architecture. \n",
        "* If it never reaches target score by the end of for loop, try increasing the number of hidden neurons or look at the epsilon.\n",
        "* __ epsilon__ - agent's willingness to explore. If you see that agent's already at < 0.01 epsilon before it's is at least 200, just reset it back to 0.1 - 0.5.\n",
        "* you may also try to tweak the learning rate of your optimizer"
      ]
    },
    {
      "cell_type": "code",
      "metadata": {
        "id": "jJeVP7SoVguN",
        "colab": {
          "base_uri": "https://localhost:8080/"
        },
        "outputId": "b3ad2e25-5262-4659-86f5-dfaf666e6a9b"
      },
      "source": [
        "for i in range(100):\n",
        "    session_rewards = [play_and_train(env, agent, train=True) for _ in range(100)]\n",
        "    print(\"epoch #{}\\tmean reward = {:.3f}\\tepsilon = {:.3f}\".format(i, np.mean(session_rewards), agent.epsilon))\n",
        "    \n",
        "    agent.epsilon *= 0.99\n",
        "    assert agent.epsilon >= 1e-4, \"Make sure epsilon is always nonzero during training\"\n",
        "    \n",
        "    if np.mean(session_rewards) > 300:\n",
        "        print (\"You Win!\")\n",
        "        break"
      ],
      "execution_count": null,
      "outputs": [
        {
          "output_type": "stream",
          "text": [
            "epoch #0\tmean reward = 14.030\tepsilon = 0.500\n",
            "epoch #1\tmean reward = 13.310\tepsilon = 0.495\n",
            "epoch #2\tmean reward = 13.340\tepsilon = 0.490\n",
            "epoch #3\tmean reward = 15.940\tepsilon = 0.485\n",
            "epoch #4\tmean reward = 24.760\tepsilon = 0.480\n",
            "epoch #5\tmean reward = 32.300\tepsilon = 0.475\n",
            "epoch #6\tmean reward = 38.530\tepsilon = 0.471\n",
            "epoch #7\tmean reward = 45.200\tepsilon = 0.466\n",
            "epoch #8\tmean reward = 49.610\tepsilon = 0.461\n",
            "epoch #9\tmean reward = 63.630\tepsilon = 0.457\n",
            "epoch #10\tmean reward = 97.370\tepsilon = 0.452\n",
            "epoch #11\tmean reward = 131.170\tepsilon = 0.448\n",
            "epoch #12\tmean reward = 150.680\tepsilon = 0.443\n",
            "epoch #13\tmean reward = 156.330\tepsilon = 0.439\n",
            "epoch #14\tmean reward = 166.890\tepsilon = 0.434\n",
            "epoch #15\tmean reward = 177.140\tepsilon = 0.430\n",
            "epoch #16\tmean reward = 180.780\tepsilon = 0.426\n",
            "epoch #17\tmean reward = 208.570\tepsilon = 0.421\n",
            "epoch #18\tmean reward = 251.420\tepsilon = 0.417\n",
            "epoch #19\tmean reward = 354.490\tepsilon = 0.413\n",
            "You Win!\n"
          ],
          "name": "stdout"
        }
      ]
    },
    {
      "cell_type": "code",
      "metadata": {
        "id": "GeFzEp4tuDMj"
      },
      "source": [
        "# record sessions\n",
        "import gym.wrappers\n",
        "env = gym.wrappers.Monitor(gym.make(\"CartPole-v0\"),directory=\"videos\",force=True)\n",
        "# set epsilon to 0, since for testing no exploration is needed\n",
        "agent.epsilon = 0\n",
        "sessions = [play_and_train(env, agent, train=False) for _ in range(1)]\n",
        "env.close()"
      ],
      "execution_count": null,
      "outputs": []
    },
    {
      "cell_type": "code",
      "metadata": {
        "id": "fgw17Mw2Wcya",
        "colab": {
          "base_uri": "https://localhost:8080/",
          "height": 420
        },
        "outputId": "182fbf96-79a9-4661-f6d9-209f7840b30e"
      },
      "source": [
        "# show video\n",
        "# the visualization function from \n",
        "# https://star-ai.github.io/Rendering-OpenAi-Gym-in-Colaboratory/\n",
        "\n",
        "from IPython.display import HTML\n",
        "from IPython import display as ipythondisplay\n",
        "import io\n",
        "import base64\n",
        "\n",
        "video_names = list(filter(lambda s:s.endswith(\".mp4\"),os.listdir(\"./videos/\")))\n",
        "\n",
        "video = io.open(\"./videos/\"+video_names[-1], 'r+b').read()\n",
        "encoded = base64.b64encode(video)\n",
        "ipythondisplay.display(HTML(data='''<video alt=\"test\" autoplay \n",
        "                loop controls style=\"height: 400px;\">\n",
        "                <source src=\"data:video/mp4;base64,{0}\" type=\"video/mp4\" />\n",
        "             </video>'''.format(encoded.decode('ascii'))))"
      ],
      "execution_count": null,
      "outputs": [
        {
          "output_type": "display_data",
          "data": {
            "text/html": [
              "<video alt=\"test\" autoplay \n",
              "                loop controls style=\"height: 400px;\">\n",
              "                <source src=\"data:video/mp4;base64,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\" type=\"video/mp4\" />\n",
              "             </video>"
            ],
            "text/plain": [
              "<IPython.core.display.HTML object>"
            ]
          },
          "metadata": {
            "tags": []
          }
        }
      ]
    }
  ]
}